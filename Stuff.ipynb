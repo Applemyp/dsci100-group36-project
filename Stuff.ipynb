{
 "cells": [
  {
   "cell_type": "code",
   "execution_count": null,
   "id": "e2948838-502f-4670-9ab6-3cd9d1fcba65",
   "metadata": {},
   "outputs": [],
   "source": [
    "jgjhgjhg\n",
    "df\n",
    "s\n",
    "f\n",
    "da\n",
    "sd\n",
    "as\n",
    "das\n",
    "d\n",
    "as\n",
    "da\n",
    "sd\n",
    "jh\n",
    "jdddddddd\n",
    "\n"
   ]
  }
 ],
 "metadata": {
  "kernelspec": {
   "display_name": "R",
   "language": "R",
   "name": "ir"
  },
  "language_info": {
   "codemirror_mode": "r",
   "file_extension": ".r",
   "mimetype": "text/x-r-source",
   "name": "R",
   "pygments_lexer": "r",
   "version": "4.1.3"
  }
 },
 "nbformat": 4,
 "nbformat_minor": 5
}
