{
 "cells": [
  {
   "cell_type": "markdown",
   "id": "e0975130-d24d-4b6c-aae2-9f6c6793c329",
   "metadata": {},
   "source": [
    "**GROUP PROJECT PROPOSAL**"
   ]
  },
  {
   "cell_type": "code",
   "execution_count": 6,
   "id": "dc296dd6-e246-402c-a9cd-6815f04f8b7d",
   "metadata": {},
   "outputs": [],
   "source": [
    "library(tidyverse)\n",
    "library(tidymodels)"
   ]
  },
  {
   "cell_type": "markdown",
   "id": "f7df1390-a129-4e0f-95c1-868f4d77e5fe",
   "metadata": {},
   "source": [
    "**TITLE**"
   ]
  },
  {
   "cell_type": "markdown",
   "id": "aa946693-b2ad-423b-b821-90db720833ad",
   "metadata": {},
   "source": [
    "**INTRODUCTION**"
   ]
  },
  {
   "cell_type": "code",
   "execution_count": null,
   "id": "ace0c1ae-9942-4fea-abb9-bbd222a4c952",
   "metadata": {},
   "outputs": [],
   "source": []
  }
 ],
 "metadata": {
  "kernelspec": {
   "display_name": "R",
   "language": "R",
   "name": "ir"
  },
  "language_info": {
   "codemirror_mode": "r",
   "file_extension": ".r",
   "mimetype": "text/x-r-source",
   "name": "R",
   "pygments_lexer": "r",
   "version": "4.1.3"
  }
 },
 "nbformat": 4,
 "nbformat_minor": 5
}
