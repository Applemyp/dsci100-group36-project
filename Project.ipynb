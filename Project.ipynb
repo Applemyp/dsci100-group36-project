{
 "cells": [
  {
   "cell_type": "markdown",
   "id": "8eef8c74-9dfa-4005-bcfc-07af99e43557",
   "metadata": {},
   "source": [
    "# $GROUP$ $36$ $PROJECT$ $PROPOSAL$\n",
    "### $Predicting$ $Water$ $Levels$ $in$ $Venice$"
   ]
  },
  {
   "cell_type": "markdown",
   "id": "38032c89-12c9-4fda-9717-bcf41560e440",
   "metadata": {},
   "source": [
    "**INTRODUCTION:**\n",
    "For our project, we are going to observe a dataset that describes water levels in Venice, Italy. Venice is known for its yearly flooding and is at risk of completely flooding in the future if water levels continue to rise. This dataset contains data from 1983 to 2015, and includes the water level in centimeters for every hour of every day. Our predictive question is:\n",
    "### “What will the average water level in Venice be ten years from now?” \n",
    "We aim to observe possible trends in the average water level per year starting from 1983 and use regression to predict how much the water level will increase or decrease in the future. Since the dataset ends at the year 2015, we want to predict the average yearly water level ten years from that, in 2025. \n"
   ]
  },
  {
   "cell_type": "markdown",
   "id": "54564cfe-541e-41b1-9c19-de8d88047d3a",
   "metadata": {},
   "source": [
    "**PRELIMINARY DATA ANALYSIS**"
   ]
  },
  {
   "cell_type": "code",
   "execution_count": 1,
   "id": "e2948838-502f-4670-9ab6-3cd9d1fcba65",
   "metadata": {},
   "outputs": [
    {
     "name": "stderr",
     "output_type": "stream",
     "text": [
      "── \u001b[1mAttaching packages\u001b[22m ─────────────────────────────────────── tidyverse 1.3.1 ──\n",
      "\n",
      "\u001b[32m✔\u001b[39m \u001b[34mggplot2\u001b[39m 3.3.6     \u001b[32m✔\u001b[39m \u001b[34mpurrr  \u001b[39m 0.3.4\n",
      "\u001b[32m✔\u001b[39m \u001b[34mtibble \u001b[39m 3.1.7     \u001b[32m✔\u001b[39m \u001b[34mdplyr  \u001b[39m 1.0.9\n",
      "\u001b[32m✔\u001b[39m \u001b[34mtidyr  \u001b[39m 1.2.0     \u001b[32m✔\u001b[39m \u001b[34mstringr\u001b[39m 1.4.0\n",
      "\u001b[32m✔\u001b[39m \u001b[34mreadr  \u001b[39m 2.1.2     \u001b[32m✔\u001b[39m \u001b[34mforcats\u001b[39m 0.5.1\n",
      "\n",
      "── \u001b[1mConflicts\u001b[22m ────────────────────────────────────────── tidyverse_conflicts() ──\n",
      "\u001b[31m✖\u001b[39m \u001b[34mdplyr\u001b[39m::\u001b[32mfilter()\u001b[39m masks \u001b[34mstats\u001b[39m::filter()\n",
      "\u001b[31m✖\u001b[39m \u001b[34mdplyr\u001b[39m::\u001b[32mlag()\u001b[39m    masks \u001b[34mstats\u001b[39m::lag()\n",
      "\n",
      "── \u001b[1mAttaching packages\u001b[22m ────────────────────────────────────── tidymodels 1.0.0 ──\n",
      "\n",
      "\u001b[32m✔\u001b[39m \u001b[34mbroom       \u001b[39m 1.0.0     \u001b[32m✔\u001b[39m \u001b[34mrsample     \u001b[39m 1.0.0\n",
      "\u001b[32m✔\u001b[39m \u001b[34mdials       \u001b[39m 1.0.0     \u001b[32m✔\u001b[39m \u001b[34mtune        \u001b[39m 1.0.0\n",
      "\u001b[32m✔\u001b[39m \u001b[34minfer       \u001b[39m 1.0.2     \u001b[32m✔\u001b[39m \u001b[34mworkflows   \u001b[39m 1.0.0\n",
      "\u001b[32m✔\u001b[39m \u001b[34mmodeldata   \u001b[39m 1.0.0     \u001b[32m✔\u001b[39m \u001b[34mworkflowsets\u001b[39m 1.0.0\n",
      "\u001b[32m✔\u001b[39m \u001b[34mparsnip     \u001b[39m 1.0.0     \u001b[32m✔\u001b[39m \u001b[34myardstick   \u001b[39m 1.0.0\n",
      "\u001b[32m✔\u001b[39m \u001b[34mrecipes     \u001b[39m 1.0.1     \n",
      "\n",
      "── \u001b[1mConflicts\u001b[22m ───────────────────────────────────────── tidymodels_conflicts() ──\n",
      "\u001b[31m✖\u001b[39m \u001b[34mscales\u001b[39m::\u001b[32mdiscard()\u001b[39m masks \u001b[34mpurrr\u001b[39m::discard()\n",
      "\u001b[31m✖\u001b[39m \u001b[34mdplyr\u001b[39m::\u001b[32mfilter()\u001b[39m   masks \u001b[34mstats\u001b[39m::filter()\n",
      "\u001b[31m✖\u001b[39m \u001b[34mrecipes\u001b[39m::\u001b[32mfixed()\u001b[39m  masks \u001b[34mstringr\u001b[39m::fixed()\n",
      "\u001b[31m✖\u001b[39m \u001b[34mdplyr\u001b[39m::\u001b[32mlag()\u001b[39m      masks \u001b[34mstats\u001b[39m::lag()\n",
      "\u001b[31m✖\u001b[39m \u001b[34myardstick\u001b[39m::\u001b[32mspec()\u001b[39m masks \u001b[34mreadr\u001b[39m::spec()\n",
      "\u001b[31m✖\u001b[39m \u001b[34mrecipes\u001b[39m::\u001b[32mstep()\u001b[39m   masks \u001b[34mstats\u001b[39m::step()\n",
      "\u001b[34m•\u001b[39m Use \u001b[32mtidymodels_prefer()\u001b[39m to resolve common conflicts.\n",
      "\n"
     ]
    }
   ],
   "source": [
    "library(tidyverse)\n",
    "library(repr)\n",
    "library(tidymodels)\n",
    "library(tidyr)\n",
    "options(repr.matrix.max.rows = 6)"
   ]
  },
  {
   "cell_type": "markdown",
   "id": "d2e4278b-1b00-4430-99ef-b24a5d00154c",
   "metadata": {},
   "source": [
    "We first loaded in our dataset and noticied the original dataset had some untidy data. This data was untidy because the original dataset had year, month, date, and and time all in one column, so we separated these into different columns with one value per cell. \n",
    "We used all the data from the original dataset, and did not need to remove any variables, as the dataset contains all the information we need already; the different water levels and the time at which they were recorded. "
   ]
  },
  {
   "cell_type": "code",
   "execution_count": 2,
   "id": "684a874b-e642-4795-b67a-e5326916679d",
   "metadata": {},
   "outputs": [
    {
     "name": "stderr",
     "output_type": "stream",
     "text": [
      "\u001b[1mRows: \u001b[22m\u001b[34m289272\u001b[39m \u001b[1mColumns: \u001b[22m\u001b[34m2\u001b[39m\n",
      "\u001b[36m──\u001b[39m \u001b[1mColumn specification\u001b[22m \u001b[36m────────────────────────────────────────────────────────\u001b[39m\n",
      "\u001b[1mDelimiter:\u001b[22m \",\"\n",
      "\u001b[32mdbl\u001b[39m  (1): level\n",
      "\u001b[34mdttm\u001b[39m (1): datetime\n",
      "\n",
      "\u001b[36mℹ\u001b[39m Use `spec()` to retrieve the full column specification for this data.\n",
      "\u001b[36mℹ\u001b[39m Specify the column types or set `show_col_types = FALSE` to quiet this message.\n"
     ]
    },
    {
     "data": {
      "text/html": [
       "<table class=\"dataframe\">\n",
       "<caption>A tibble: 289272 × 5</caption>\n",
       "<thead>\n",
       "\t<tr><th scope=col>Year</th><th scope=col>Month</th><th scope=col>Day</th><th scope=col>Time</th><th scope=col>level</th></tr>\n",
       "\t<tr><th scope=col>&lt;int&gt;</th><th scope=col>&lt;int&gt;</th><th scope=col>&lt;int&gt;</th><th scope=col>&lt;chr&gt;</th><th scope=col>&lt;dbl&gt;</th></tr>\n",
       "</thead>\n",
       "<tbody>\n",
       "\t<tr><td>1983</td><td>1</td><td>1</td><td>01:00:00</td><td>44</td></tr>\n",
       "\t<tr><td>1983</td><td>1</td><td>1</td><td>02:00:00</td><td>35</td></tr>\n",
       "\t<tr><td>1983</td><td>1</td><td>1</td><td>03:00:00</td><td>23</td></tr>\n",
       "\t<tr><td>⋮</td><td>⋮</td><td>⋮</td><td>⋮</td><td>⋮</td></tr>\n",
       "\t<tr><td>2015</td><td>12</td><td>31</td><td>22:00:00</td><td>-5</td></tr>\n",
       "\t<tr><td>2015</td><td>12</td><td>31</td><td>23:00:00</td><td> 8</td></tr>\n",
       "\t<tr><td>2016</td><td> 1</td><td> 1</td><td>00:00:00</td><td>20</td></tr>\n",
       "</tbody>\n",
       "</table>\n"
      ],
      "text/latex": [
       "A tibble: 289272 × 5\n",
       "\\begin{tabular}{lllll}\n",
       " Year & Month & Day & Time & level\\\\\n",
       " <int> & <int> & <int> & <chr> & <dbl>\\\\\n",
       "\\hline\n",
       "\t 1983 & 1 & 1 & 01:00:00 & 44\\\\\n",
       "\t 1983 & 1 & 1 & 02:00:00 & 35\\\\\n",
       "\t 1983 & 1 & 1 & 03:00:00 & 23\\\\\n",
       "\t ⋮ & ⋮ & ⋮ & ⋮ & ⋮\\\\\n",
       "\t 2015 & 12 & 31 & 22:00:00 & -5\\\\\n",
       "\t 2015 & 12 & 31 & 23:00:00 &  8\\\\\n",
       "\t 2016 &  1 &  1 & 00:00:00 & 20\\\\\n",
       "\\end{tabular}\n"
      ],
      "text/markdown": [
       "\n",
       "A tibble: 289272 × 5\n",
       "\n",
       "| Year &lt;int&gt; | Month &lt;int&gt; | Day &lt;int&gt; | Time &lt;chr&gt; | level &lt;dbl&gt; |\n",
       "|---|---|---|---|---|\n",
       "| 1983 | 1 | 1 | 01:00:00 | 44 |\n",
       "| 1983 | 1 | 1 | 02:00:00 | 35 |\n",
       "| 1983 | 1 | 1 | 03:00:00 | 23 |\n",
       "| ⋮ | ⋮ | ⋮ | ⋮ | ⋮ |\n",
       "| 2015 | 12 | 31 | 22:00:00 | -5 |\n",
       "| 2015 | 12 | 31 | 23:00:00 |  8 |\n",
       "| 2016 |  1 |  1 | 00:00:00 | 20 |\n",
       "\n"
      ],
      "text/plain": [
       "       Year Month Day Time     level\n",
       "1      1983 1     1   01:00:00 44   \n",
       "2      1983 1     1   02:00:00 35   \n",
       "3      1983 1     1   03:00:00 23   \n",
       "⋮      ⋮    ⋮     ⋮   ⋮        ⋮    \n",
       "289270 2015 12    31  22:00:00 -5   \n",
       "289271 2015 12    31  23:00:00  8   \n",
       "289272 2016  1     1  00:00:00 20   "
      ]
     },
     "metadata": {},
     "output_type": "display_data"
    }
   ],
   "source": [
    "data<-read_csv('https://github.com/lbcommer/venezia-high-waters/raw/master/output/venezia.csv') |>\n",
    "                                separate(col=datetime, into=c('Year', 'Month', 'Date'), sep='-', convert=TRUE) |>\n",
    "                                separate(col=Date, into=c('Day', 'Time'), sep=\" \", convert=TRUE)\n",
    "\n",
    "data"
   ]
  },
  {
   "cell_type": "markdown",
   "id": "f5520ba9-aacc-49e2-a243-7d45a50e980d",
   "metadata": {},
   "source": [
    "Initially we wanted to look at just the first day of every month at a specific time, for example; 12 pm of every first day. However, we realized that this does not account for high and low tide periods of each day. Therefore, we changed our method to take the mean water level of the entire day, as this takes into consideration different tides throughout the day. From there we grouped by year and found the mean water level of each year. We also had to remove data for 2016 becuase there was only 1 data point for 2016 while the other years had thousands of data points, which would result in an outlier when plotting mean water level."
   ]
  },
  {
   "cell_type": "code",
   "execution_count": 3,
   "id": "c1708f39-96fa-48e2-bd7a-a8c10cf51d9e",
   "metadata": {},
   "outputs": [
    {
     "name": "stderr",
     "output_type": "stream",
     "text": [
      "\u001b[1m\u001b[22m`summarise()` has grouped output by 'Year', 'Month'. You can override using the\n",
      "`.groups` argument.\n",
      "Warning message:\n",
      "“The number of observations in each quantile is below the recommended threshold of 20.\n",
      "\u001b[36m•\u001b[39m Stratification will use 1 breaks instead.”\n",
      "Warning message:\n",
      "“Too little data to stratify.\n",
      "\u001b[36m•\u001b[39m Resampling will be unstratified.”\n"
     ]
    },
    {
     "data": {
      "text/html": [
       "<table class=\"dataframe\">\n",
       "<caption>A tibble: 33 × 2</caption>\n",
       "<thead>\n",
       "\t<tr><th scope=col>Year</th><th scope=col>mean_yearly</th></tr>\n",
       "\t<tr><th scope=col>&lt;int&gt;</th><th scope=col>&lt;dbl&gt;</th></tr>\n",
       "</thead>\n",
       "<tbody>\n",
       "\t<tr><td>1983</td><td>20.55158</td></tr>\n",
       "\t<tr><td>1984</td><td>24.33094</td></tr>\n",
       "\t<tr><td>1985</td><td>21.50982</td></tr>\n",
       "\t<tr><td>⋮</td><td>⋮</td></tr>\n",
       "\t<tr><td>2013</td><td>36.30993</td></tr>\n",
       "\t<tr><td>2014</td><td>39.43710</td></tr>\n",
       "\t<tr><td>2015</td><td>31.26404</td></tr>\n",
       "</tbody>\n",
       "</table>\n"
      ],
      "text/latex": [
       "A tibble: 33 × 2\n",
       "\\begin{tabular}{ll}\n",
       " Year & mean\\_yearly\\\\\n",
       " <int> & <dbl>\\\\\n",
       "\\hline\n",
       "\t 1983 & 20.55158\\\\\n",
       "\t 1984 & 24.33094\\\\\n",
       "\t 1985 & 21.50982\\\\\n",
       "\t ⋮ & ⋮\\\\\n",
       "\t 2013 & 36.30993\\\\\n",
       "\t 2014 & 39.43710\\\\\n",
       "\t 2015 & 31.26404\\\\\n",
       "\\end{tabular}\n"
      ],
      "text/markdown": [
       "\n",
       "A tibble: 33 × 2\n",
       "\n",
       "| Year &lt;int&gt; | mean_yearly &lt;dbl&gt; |\n",
       "|---|---|\n",
       "| 1983 | 20.55158 |\n",
       "| 1984 | 24.33094 |\n",
       "| 1985 | 21.50982 |\n",
       "| ⋮ | ⋮ |\n",
       "| 2013 | 36.30993 |\n",
       "| 2014 | 39.43710 |\n",
       "| 2015 | 31.26404 |\n",
       "\n"
      ],
      "text/plain": [
       "   Year mean_yearly\n",
       "1  1983 20.55158   \n",
       "2  1984 24.33094   \n",
       "3  1985 21.50982   \n",
       "⋮  ⋮    ⋮          \n",
       "31 2013 36.30993   \n",
       "32 2014 39.43710   \n",
       "33 2015 31.26404   "
      ]
     },
     "metadata": {},
     "output_type": "display_data"
    },
    {
     "data": {
      "text/html": [
       "<table class=\"dataframe\">\n",
       "<caption>A tibble: 26 × 2</caption>\n",
       "<thead>\n",
       "\t<tr><th scope=col>Year</th><th scope=col>mean_yearly</th></tr>\n",
       "\t<tr><th scope=col>&lt;int&gt;</th><th scope=col>&lt;dbl&gt;</th></tr>\n",
       "</thead>\n",
       "<tbody>\n",
       "\t<tr><td>1983</td><td>20.55158</td></tr>\n",
       "\t<tr><td>1985</td><td>21.50982</td></tr>\n",
       "\t<tr><td>1986</td><td>22.79338</td></tr>\n",
       "\t<tr><td>⋮</td><td>⋮</td></tr>\n",
       "\t<tr><td>2012</td><td>29.49693</td></tr>\n",
       "\t<tr><td>2014</td><td>39.43710</td></tr>\n",
       "\t<tr><td>2015</td><td>31.26404</td></tr>\n",
       "</tbody>\n",
       "</table>\n"
      ],
      "text/latex": [
       "A tibble: 26 × 2\n",
       "\\begin{tabular}{ll}\n",
       " Year & mean\\_yearly\\\\\n",
       " <int> & <dbl>\\\\\n",
       "\\hline\n",
       "\t 1983 & 20.55158\\\\\n",
       "\t 1985 & 21.50982\\\\\n",
       "\t 1986 & 22.79338\\\\\n",
       "\t ⋮ & ⋮\\\\\n",
       "\t 2012 & 29.49693\\\\\n",
       "\t 2014 & 39.43710\\\\\n",
       "\t 2015 & 31.26404\\\\\n",
       "\\end{tabular}\n"
      ],
      "text/markdown": [
       "\n",
       "A tibble: 26 × 2\n",
       "\n",
       "| Year &lt;int&gt; | mean_yearly &lt;dbl&gt; |\n",
       "|---|---|\n",
       "| 1983 | 20.55158 |\n",
       "| 1985 | 21.50982 |\n",
       "| 1986 | 22.79338 |\n",
       "| ⋮ | ⋮ |\n",
       "| 2012 | 29.49693 |\n",
       "| 2014 | 39.43710 |\n",
       "| 2015 | 31.26404 |\n",
       "\n"
      ],
      "text/plain": [
       "   Year mean_yearly\n",
       "1  1983 20.55158   \n",
       "2  1985 21.50982   \n",
       "3  1986 22.79338   \n",
       "⋮  ⋮    ⋮          \n",
       "24 2012 29.49693   \n",
       "25 2014 39.43710   \n",
       "26 2015 31.26404   "
      ]
     },
     "metadata": {},
     "output_type": "display_data"
    },
    {
     "data": {
      "text/html": [
       "<table class=\"dataframe\">\n",
       "<caption>A tibble: 7 × 2</caption>\n",
       "<thead>\n",
       "\t<tr><th scope=col>Year</th><th scope=col>mean_yearly</th></tr>\n",
       "\t<tr><th scope=col>&lt;int&gt;</th><th scope=col>&lt;dbl&gt;</th></tr>\n",
       "</thead>\n",
       "<tbody>\n",
       "\t<tr><td>1984</td><td>24.33094</td></tr>\n",
       "\t<tr><td>1994</td><td>21.72032</td></tr>\n",
       "\t<tr><td>1995</td><td>22.20947</td></tr>\n",
       "\t<tr><td>⋮</td><td>⋮</td></tr>\n",
       "\t<tr><td>2004</td><td>27.61305</td></tr>\n",
       "\t<tr><td>2005</td><td>25.83862</td></tr>\n",
       "\t<tr><td>2013</td><td>36.30993</td></tr>\n",
       "</tbody>\n",
       "</table>\n"
      ],
      "text/latex": [
       "A tibble: 7 × 2\n",
       "\\begin{tabular}{ll}\n",
       " Year & mean\\_yearly\\\\\n",
       " <int> & <dbl>\\\\\n",
       "\\hline\n",
       "\t 1984 & 24.33094\\\\\n",
       "\t 1994 & 21.72032\\\\\n",
       "\t 1995 & 22.20947\\\\\n",
       "\t ⋮ & ⋮\\\\\n",
       "\t 2004 & 27.61305\\\\\n",
       "\t 2005 & 25.83862\\\\\n",
       "\t 2013 & 36.30993\\\\\n",
       "\\end{tabular}\n"
      ],
      "text/markdown": [
       "\n",
       "A tibble: 7 × 2\n",
       "\n",
       "| Year &lt;int&gt; | mean_yearly &lt;dbl&gt; |\n",
       "|---|---|\n",
       "| 1984 | 24.33094 |\n",
       "| 1994 | 21.72032 |\n",
       "| 1995 | 22.20947 |\n",
       "| ⋮ | ⋮ |\n",
       "| 2004 | 27.61305 |\n",
       "| 2005 | 25.83862 |\n",
       "| 2013 | 36.30993 |\n",
       "\n"
      ],
      "text/plain": [
       "  Year mean_yearly\n",
       "1 1984 24.33094   \n",
       "2 1994 21.72032   \n",
       "3 1995 22.20947   \n",
       "⋮ ⋮    ⋮          \n",
       "5 2004 27.61305   \n",
       "6 2005 25.83862   \n",
       "7 2013 36.30993   "
      ]
     },
     "metadata": {},
     "output_type": "display_data"
    }
   ],
   "source": [
    "set.seed(2000) \n",
    "\n",
    "filtered_data <- data |>  \n",
    "filter( Year != \"2016\")\n",
    "\n",
    "mean_daily_data <- filtered_data |> \n",
    "group_by(Year, Month, Day) |>\n",
    "summarize(mean_daily = mean(level))\n",
    "\n",
    "mean_yearly_data <- mean_daily_data |>\n",
    "group_by(Year) |>\n",
    "summarize(mean_yearly = mean(mean_daily))\n",
    "\n",
    "data_split <- initial_split(mean_yearly_data, prop = 0.8, strata = mean_yearly)\n",
    "training_data <- training(data_split)\n",
    "testing_data <- testing(data_split)\n",
    "\n",
    "mean_yearly_data\n",
    "training_data\n",
    "testing_data"
   ]
  },
  {
   "cell_type": "markdown",
   "id": "e160b766-87de-4990-afa7-24016e252386",
   "metadata": {},
   "source": [
    "For spliting the data we chose a 80/20 split as we didnt have many data points to start with. We want to predict the yearly average for future years, therefore we split the data after wrangling so the testing and training data were both the same format (yearly average). We then visualized our data using a line plot with points."
   ]
  },
  {
   "cell_type": "code",
   "execution_count": 4,
   "id": "87cf2446-7449-4183-80d5-b6c5cc5a38c9",
   "metadata": {},
   "outputs": [
    {
     "data": {
      "image/png": "[encoded data removed]",
      "text/plain": [
       "plot without title"
      ]
     },
     "metadata": {
      "image/png": {
       "height": 420,
       "width": 420
      }
     },
     "output_type": "display_data"
    }
   ],
   "source": [
    "graph_data <- training_data |>\n",
    "ggplot(aes( x = Year, y = mean_yearly))+\n",
    "geom_point()+\n",
    "geom_line() +\n",
    "labs( x = \"Year\", y = \"Yearly Average Water Levels\", title = \"Average Yearly Water Levels (1983-2015)\")\n",
    "\n",
    "graph_data"
   ]
  },
  {
   "cell_type": "markdown",
   "id": "6dd3ffd0-d947-4acd-b10d-f9f31da59e0a",
   "metadata": {},
   "source": [
    "**METHODOLOGY:** \n",
    "* We plan on answering our predictive question through using a K-nearest neighbors regression model to create a $regression$ $line$ which will allow us to predict future trends within our data, hence allowing us to answer our predictive question. \n",
    "* We will be implementing our regression model onto a $line plot$ which will contain \"Year\" on the y-axis and \"Yearly Average of Water Levels\" on the y axis, as well as the regression line will be coloured as it's overlay without color differentiation may cause confusion while interpreting the graph.\n",
    "* Overall as we have not yet covered chapter 8 (Regression II), therefore are likely additional elements which will be incorporated into this project as our knowledge increases\n"
   ]
  },
  {
   "cell_type": "markdown",
   "id": "2f88e43b-dcd7-4870-9305-00ec2227d4b3",
   "metadata": {},
   "source": [
    "**EXPECTED OUTCOMES/SIGNIFICANCE:**\n",
    "From the initial plot of our data that we created after doing preliminary analysis, we can see that the average water levels fluctuate quite frequently between different years. However, there is an overall increasing trend as the years go by, indicating that on a broad level, water levels in Venice are rising as time passes. This aligns with our expected outcome, as we hypothesized in the beginning that water levels would increase. We arrived at this hypothesis because water levels have been rising all around the world due to global warming. The results from our regression prediction will likely reflect this impact that global warming has on the environment. This can lead to more exploratory questions asking what specific factors in Venice are causing the water levels to change."
   ]
  },
  {
   "cell_type": "code",
   "execution_count": null,
   "id": "012650c1-b347-4619-beb7-033c88a6c725",
   "metadata": {},
   "outputs": [],
   "source": []
  }
 ],
 "metadata": {
  "kernelspec": {
   "display_name": "R",
   "language": "R",
   "name": "ir"
  },
  "language_info": {
   "codemirror_mode": "r",
   "file_extension": ".r",
   "mimetype": "text/x-r-source",
   "name": "R",
   "pygments_lexer": "r",
   "version": "4.1.3"
  }
 },
 "nbformat": 4,
 "nbformat_minor": 5
}
