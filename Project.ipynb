{
 "cells": [
  {
   "cell_type": "markdown",
   "id": "8eef8c74-9dfa-4005-bcfc-07af99e43557",
   "metadata": {},
   "source": [
    "# GROUP 36 PROJECT PROPOSAL\n",
    "### Predicting Water Levels in Venice"
   ]
  },
  {
   "cell_type": "markdown",
   "id": "38032c89-12c9-4fda-9717-bcf41560e440",
   "metadata": {},
   "source": [
    "**INTRODUCTION:**\n",
    "For our project, we are going to observe a dataset that describes water levels in Venice, Italy. This dataset contains data from 1983 to 2015, and includes the water level in centimeters for every hour of every day. Our predictive question is:\n",
    "### “What will the average water level in Venice be ten years from now?” \n",
    "We aim to observe possible trends in the average water level per year starting from 1983 and use regression to predict how much the water level will increase or decrease in the future. Since the dataset ends at the year 2015, we want to predict the water level ten years from that, in 2025. \n"
   ]
  },
  {
   "cell_type": "markdown",
   "id": "54564cfe-541e-41b1-9c19-de8d88047d3a",
   "metadata": {},
   "source": [
    "**PRELIMINARY DATA ANALYSIS**"
   ]
  },
  {
   "cell_type": "code",
   "execution_count": 1,
   "id": "e2948838-502f-4670-9ab6-3cd9d1fcba65",
   "metadata": {},
   "outputs": [
    {
     "name": "stderr",
     "output_type": "stream",
     "text": [
      "── \u001b[1mAttaching packages\u001b[22m ─────────────────────────────────────── tidyverse 1.3.1 ──\n",
      "\n",
      "\u001b[32m✔\u001b[39m \u001b[34mggplot2\u001b[39m 3.3.6     \u001b[32m✔\u001b[39m \u001b[34mpurrr  \u001b[39m 0.3.4\n",
      "\u001b[32m✔\u001b[39m \u001b[34mtibble \u001b[39m 3.1.7     \u001b[32m✔\u001b[39m \u001b[34mdplyr  \u001b[39m 1.0.9\n",
      "\u001b[32m✔\u001b[39m \u001b[34mtidyr  \u001b[39m 1.2.0     \u001b[32m✔\u001b[39m \u001b[34mstringr\u001b[39m 1.4.0\n",
      "\u001b[32m✔\u001b[39m \u001b[34mreadr  \u001b[39m 2.1.2     \u001b[32m✔\u001b[39m \u001b[34mforcats\u001b[39m 0.5.1\n",
      "\n",
      "── \u001b[1mConflicts\u001b[22m ────────────────────────────────────────── tidyverse_conflicts() ──\n",
      "\u001b[31m✖\u001b[39m \u001b[34mdplyr\u001b[39m::\u001b[32mfilter()\u001b[39m masks \u001b[34mstats\u001b[39m::filter()\n",
      "\u001b[31m✖\u001b[39m \u001b[34mdplyr\u001b[39m::\u001b[32mlag()\u001b[39m    masks \u001b[34mstats\u001b[39m::lag()\n",
      "\n",
      "── \u001b[1mAttaching packages\u001b[22m ────────────────────────────────────── tidymodels 1.0.0 ──\n",
      "\n",
      "\u001b[32m✔\u001b[39m \u001b[34mbroom       \u001b[39m 1.0.0     \u001b[32m✔\u001b[39m \u001b[34mrsample     \u001b[39m 1.0.0\n",
      "\u001b[32m✔\u001b[39m \u001b[34mdials       \u001b[39m 1.0.0     \u001b[32m✔\u001b[39m \u001b[34mtune        \u001b[39m 1.0.0\n",
      "\u001b[32m✔\u001b[39m \u001b[34minfer       \u001b[39m 1.0.2     \u001b[32m✔\u001b[39m \u001b[34mworkflows   \u001b[39m 1.0.0\n",
      "\u001b[32m✔\u001b[39m \u001b[34mmodeldata   \u001b[39m 1.0.0     \u001b[32m✔\u001b[39m \u001b[34mworkflowsets\u001b[39m 1.0.0\n",
      "\u001b[32m✔\u001b[39m \u001b[34mparsnip     \u001b[39m 1.0.0     \u001b[32m✔\u001b[39m \u001b[34myardstick   \u001b[39m 1.0.0\n",
      "\u001b[32m✔\u001b[39m \u001b[34mrecipes     \u001b[39m 1.0.1     \n",
      "\n",
      "── \u001b[1mConflicts\u001b[22m ───────────────────────────────────────── tidymodels_conflicts() ──\n",
      "\u001b[31m✖\u001b[39m \u001b[34mscales\u001b[39m::\u001b[32mdiscard()\u001b[39m masks \u001b[34mpurrr\u001b[39m::discard()\n",
      "\u001b[31m✖\u001b[39m \u001b[34mdplyr\u001b[39m::\u001b[32mfilter()\u001b[39m   masks \u001b[34mstats\u001b[39m::filter()\n",
      "\u001b[31m✖\u001b[39m \u001b[34mrecipes\u001b[39m::\u001b[32mfixed()\u001b[39m  masks \u001b[34mstringr\u001b[39m::fixed()\n",
      "\u001b[31m✖\u001b[39m \u001b[34mdplyr\u001b[39m::\u001b[32mlag()\u001b[39m      masks \u001b[34mstats\u001b[39m::lag()\n",
      "\u001b[31m✖\u001b[39m \u001b[34myardstick\u001b[39m::\u001b[32mspec()\u001b[39m masks \u001b[34mreadr\u001b[39m::spec()\n",
      "\u001b[31m✖\u001b[39m \u001b[34mrecipes\u001b[39m::\u001b[32mstep()\u001b[39m   masks \u001b[34mstats\u001b[39m::step()\n",
      "\u001b[34m•\u001b[39m Dig deeper into tidy modeling with R at \u001b[32mhttps://www.tmwr.org\u001b[39m\n",
      "\n"
     ]
    }
   ],
   "source": [
    "library(tidyverse)\n",
    "library(repr)\n",
    "library(tidymodels)\n",
    "library(tidyr)"
   ]
  },
  {
   "cell_type": "markdown",
   "id": "d2e4278b-1b00-4430-99ef-b24a5d00154c",
   "metadata": {},
   "source": [
    "We first loaded in our dataset and noticied the original dataset had some untidy data. This data was untidy because the original dataset had year, month, date, and and time all in one column, so we separated these into different columns with one value per cell. \n",
    "We used all the data from the original dataset, and did not need to remove any variables, as the dataset contains all the information we need already; the different water levels and the time at which they were recorded. "
   ]
  },
  {
   "cell_type": "code",
   "execution_count": 2,
   "id": "684a874b-e642-4795-b67a-e5326916679d",
   "metadata": {},
   "outputs": [
    {
     "name": "stderr",
     "output_type": "stream",
     "text": [
      "\u001b[1mRows: \u001b[22m\u001b[34m289272\u001b[39m \u001b[1mColumns: \u001b[22m\u001b[34m2\u001b[39m\n",
      "\u001b[36m──\u001b[39m \u001b[1mColumn specification\u001b[22m \u001b[36m────────────────────────────────────────────────────────\u001b[39m\n",
      "\u001b[1mDelimiter:\u001b[22m \",\"\n",
      "\u001b[32mdbl\u001b[39m  (1): level\n",
      "\u001b[34mdttm\u001b[39m (1): datetime\n",
      "\n",
      "\u001b[36mℹ\u001b[39m Use `spec()` to retrieve the full column specification for this data.\n",
      "\u001b[36mℹ\u001b[39m Specify the column types or set `show_col_types = FALSE` to quiet this message.\n"
     ]
    },
    {
     "data": {
      "text/html": [
       "<table class=\"dataframe\">\n",
       "<caption>A tibble: 6 × 5</caption>\n",
       "<thead>\n",
       "\t<tr><th scope=col>Year</th><th scope=col>Month</th><th scope=col>Day</th><th scope=col>Time</th><th scope=col>level</th></tr>\n",
       "\t<tr><th scope=col>&lt;int&gt;</th><th scope=col>&lt;int&gt;</th><th scope=col>&lt;int&gt;</th><th scope=col>&lt;chr&gt;</th><th scope=col>&lt;dbl&gt;</th></tr>\n",
       "</thead>\n",
       "<tbody>\n",
       "\t<tr><td>1983</td><td>1</td><td>1</td><td>01:00:00</td><td>44</td></tr>\n",
       "\t<tr><td>1983</td><td>1</td><td>1</td><td>02:00:00</td><td>35</td></tr>\n",
       "\t<tr><td>1983</td><td>1</td><td>1</td><td>03:00:00</td><td>23</td></tr>\n",
       "\t<tr><td>1983</td><td>1</td><td>1</td><td>04:00:00</td><td>10</td></tr>\n",
       "\t<tr><td>1983</td><td>1</td><td>1</td><td>05:00:00</td><td> 1</td></tr>\n",
       "\t<tr><td>1983</td><td>1</td><td>1</td><td>06:00:00</td><td>-1</td></tr>\n",
       "</tbody>\n",
       "</table>\n"
      ],
      "text/latex": [
       "A tibble: 6 × 5\n",
       "\\begin{tabular}{lllll}\n",
       " Year & Month & Day & Time & level\\\\\n",
       " <int> & <int> & <int> & <chr> & <dbl>\\\\\n",
       "\\hline\n",
       "\t 1983 & 1 & 1 & 01:00:00 & 44\\\\\n",
       "\t 1983 & 1 & 1 & 02:00:00 & 35\\\\\n",
       "\t 1983 & 1 & 1 & 03:00:00 & 23\\\\\n",
       "\t 1983 & 1 & 1 & 04:00:00 & 10\\\\\n",
       "\t 1983 & 1 & 1 & 05:00:00 &  1\\\\\n",
       "\t 1983 & 1 & 1 & 06:00:00 & -1\\\\\n",
       "\\end{tabular}\n"
      ],
      "text/markdown": [
       "\n",
       "A tibble: 6 × 5\n",
       "\n",
       "| Year &lt;int&gt; | Month &lt;int&gt; | Day &lt;int&gt; | Time &lt;chr&gt; | level &lt;dbl&gt; |\n",
       "|---|---|---|---|---|\n",
       "| 1983 | 1 | 1 | 01:00:00 | 44 |\n",
       "| 1983 | 1 | 1 | 02:00:00 | 35 |\n",
       "| 1983 | 1 | 1 | 03:00:00 | 23 |\n",
       "| 1983 | 1 | 1 | 04:00:00 | 10 |\n",
       "| 1983 | 1 | 1 | 05:00:00 |  1 |\n",
       "| 1983 | 1 | 1 | 06:00:00 | -1 |\n",
       "\n"
      ],
      "text/plain": [
       "  Year Month Day Time     level\n",
       "1 1983 1     1   01:00:00 44   \n",
       "2 1983 1     1   02:00:00 35   \n",
       "3 1983 1     1   03:00:00 23   \n",
       "4 1983 1     1   04:00:00 10   \n",
       "5 1983 1     1   05:00:00  1   \n",
       "6 1983 1     1   06:00:00 -1   "
      ]
     },
     "metadata": {},
     "output_type": "display_data"
    },
    {
     "data": {
      "text/html": [
       "<table class=\"dataframe\">\n",
       "<caption>A tibble: 6 × 5</caption>\n",
       "<thead>\n",
       "\t<tr><th scope=col>Year</th><th scope=col>Month</th><th scope=col>Day</th><th scope=col>Time</th><th scope=col>level</th></tr>\n",
       "\t<tr><th scope=col>&lt;int&gt;</th><th scope=col>&lt;int&gt;</th><th scope=col>&lt;int&gt;</th><th scope=col>&lt;chr&gt;</th><th scope=col>&lt;dbl&gt;</th></tr>\n",
       "</thead>\n",
       "<tbody>\n",
       "\t<tr><td>2015</td><td>12</td><td>31</td><td>19:00:00</td><td>-19</td></tr>\n",
       "\t<tr><td>2015</td><td>12</td><td>31</td><td>20:00:00</td><td>-18</td></tr>\n",
       "\t<tr><td>2015</td><td>12</td><td>31</td><td>21:00:00</td><td>-14</td></tr>\n",
       "\t<tr><td>2015</td><td>12</td><td>31</td><td>22:00:00</td><td> -5</td></tr>\n",
       "\t<tr><td>2015</td><td>12</td><td>31</td><td>23:00:00</td><td>  8</td></tr>\n",
       "\t<tr><td>2016</td><td> 1</td><td> 1</td><td>00:00:00</td><td> 20</td></tr>\n",
       "</tbody>\n",
       "</table>\n"
      ],
      "text/latex": [
       "A tibble: 6 × 5\n",
       "\\begin{tabular}{lllll}\n",
       " Year & Month & Day & Time & level\\\\\n",
       " <int> & <int> & <int> & <chr> & <dbl>\\\\\n",
       "\\hline\n",
       "\t 2015 & 12 & 31 & 19:00:00 & -19\\\\\n",
       "\t 2015 & 12 & 31 & 20:00:00 & -18\\\\\n",
       "\t 2015 & 12 & 31 & 21:00:00 & -14\\\\\n",
       "\t 2015 & 12 & 31 & 22:00:00 &  -5\\\\\n",
       "\t 2015 & 12 & 31 & 23:00:00 &   8\\\\\n",
       "\t 2016 &  1 &  1 & 00:00:00 &  20\\\\\n",
       "\\end{tabular}\n"
      ],
      "text/markdown": [
       "\n",
       "A tibble: 6 × 5\n",
       "\n",
       "| Year &lt;int&gt; | Month &lt;int&gt; | Day &lt;int&gt; | Time &lt;chr&gt; | level &lt;dbl&gt; |\n",
       "|---|---|---|---|---|\n",
       "| 2015 | 12 | 31 | 19:00:00 | -19 |\n",
       "| 2015 | 12 | 31 | 20:00:00 | -18 |\n",
       "| 2015 | 12 | 31 | 21:00:00 | -14 |\n",
       "| 2015 | 12 | 31 | 22:00:00 |  -5 |\n",
       "| 2015 | 12 | 31 | 23:00:00 |   8 |\n",
       "| 2016 |  1 |  1 | 00:00:00 |  20 |\n",
       "\n"
      ],
      "text/plain": [
       "  Year Month Day Time     level\n",
       "1 2015 12    31  19:00:00 -19  \n",
       "2 2015 12    31  20:00:00 -18  \n",
       "3 2015 12    31  21:00:00 -14  \n",
       "4 2015 12    31  22:00:00  -5  \n",
       "5 2015 12    31  23:00:00   8  \n",
       "6 2016  1     1  00:00:00  20  "
      ]
     },
     "metadata": {},
     "output_type": "display_data"
    }
   ],
   "source": [
    "data<-read_csv('venezia.csv') |>separate(col=datetime, into=c('Year', 'Month', 'Date'), sep='-', convert=TRUE) |>\n",
    "                                separate(col=Date, into=c('Day', 'Time'), sep=\" \", convert=TRUE)\n",
    "\n",
    "head(data)\n",
    "tail(data)"
   ]
  },
  {
   "cell_type": "markdown",
   "id": "f5520ba9-aacc-49e2-a243-7d45a50e980d",
   "metadata": {},
   "source": [
    "Initially we wanted to look at just the first day of every month at a specific time, for example; 12 pm of every first day. However, we realized that this does not account for high and low tide periods of each day. Therefore, we changed our method to take the mean water level of the entire day, as this takes into consideration different tides throughout the day. From there we grouped by year and found the mean water level of each year."
   ]
  },
  {
   "cell_type": "code",
   "execution_count": 3,
   "id": "c1708f39-96fa-48e2-bd7a-a8c10cf51d9e",
   "metadata": {},
   "outputs": [
    {
     "name": "stderr",
     "output_type": "stream",
     "text": [
      "\u001b[1m\u001b[22m`summarise()` has grouped output by 'Year', 'Month'. You can override using the\n",
      "`.groups` argument.\n"
     ]
    },
    {
     "data": {
      "text/html": [
       "<table class=\"dataframe\">\n",
       "<caption>A tibble: 6 × 2</caption>\n",
       "<thead>\n",
       "\t<tr><th scope=col>Year</th><th scope=col>mean_year</th></tr>\n",
       "\t<tr><th scope=col>&lt;int&gt;</th><th scope=col>&lt;dbl&gt;</th></tr>\n",
       "</thead>\n",
       "<tbody>\n",
       "\t<tr><td>1983</td><td>21.30495</td></tr>\n",
       "\t<tr><td>1984</td><td>22.61458</td></tr>\n",
       "\t<tr><td>1985</td><td>18.47917</td></tr>\n",
       "\t<tr><td>1986</td><td>23.38542</td></tr>\n",
       "\t<tr><td>1987</td><td>20.69444</td></tr>\n",
       "\t<tr><td>1988</td><td>21.61806</td></tr>\n",
       "</tbody>\n",
       "</table>\n"
      ],
      "text/latex": [
       "A tibble: 6 × 2\n",
       "\\begin{tabular}{ll}\n",
       " Year & mean\\_year\\\\\n",
       " <int> & <dbl>\\\\\n",
       "\\hline\n",
       "\t 1983 & 21.30495\\\\\n",
       "\t 1984 & 22.61458\\\\\n",
       "\t 1985 & 18.47917\\\\\n",
       "\t 1986 & 23.38542\\\\\n",
       "\t 1987 & 20.69444\\\\\n",
       "\t 1988 & 21.61806\\\\\n",
       "\\end{tabular}\n"
      ],
      "text/markdown": [
       "\n",
       "A tibble: 6 × 2\n",
       "\n",
       "| Year &lt;int&gt; | mean_year &lt;dbl&gt; |\n",
       "|---|---|\n",
       "| 1983 | 21.30495 |\n",
       "| 1984 | 22.61458 |\n",
       "| 1985 | 18.47917 |\n",
       "| 1986 | 23.38542 |\n",
       "| 1987 | 20.69444 |\n",
       "| 1988 | 21.61806 |\n",
       "\n"
      ],
      "text/plain": [
       "  Year mean_year\n",
       "1 1983 21.30495 \n",
       "2 1984 22.61458 \n",
       "3 1985 18.47917 \n",
       "4 1986 23.38542 \n",
       "5 1987 20.69444 \n",
       "6 1988 21.61806 "
      ]
     },
     "metadata": {},
     "output_type": "display_data"
    },
    {
     "data": {
      "text/html": [
       "<table class=\"dataframe\">\n",
       "<caption>A tibble: 6 × 2</caption>\n",
       "<thead>\n",
       "\t<tr><th scope=col>Year</th><th scope=col>mean_year</th></tr>\n",
       "\t<tr><th scope=col>&lt;int&gt;</th><th scope=col>&lt;dbl&gt;</th></tr>\n",
       "</thead>\n",
       "<tbody>\n",
       "\t<tr><td>2010</td><td>44.46181</td></tr>\n",
       "\t<tr><td>2011</td><td>29.59028</td></tr>\n",
       "\t<tr><td>2012</td><td>36.75347</td></tr>\n",
       "\t<tr><td>2013</td><td>33.06597</td></tr>\n",
       "\t<tr><td>2014</td><td>41.01042</td></tr>\n",
       "\t<tr><td>2015</td><td>34.23958</td></tr>\n",
       "</tbody>\n",
       "</table>\n"
      ],
      "text/latex": [
       "A tibble: 6 × 2\n",
       "\\begin{tabular}{ll}\n",
       " Year & mean\\_year\\\\\n",
       " <int> & <dbl>\\\\\n",
       "\\hline\n",
       "\t 2010 & 44.46181\\\\\n",
       "\t 2011 & 29.59028\\\\\n",
       "\t 2012 & 36.75347\\\\\n",
       "\t 2013 & 33.06597\\\\\n",
       "\t 2014 & 41.01042\\\\\n",
       "\t 2015 & 34.23958\\\\\n",
       "\\end{tabular}\n"
      ],
      "text/markdown": [
       "\n",
       "A tibble: 6 × 2\n",
       "\n",
       "| Year &lt;int&gt; | mean_year &lt;dbl&gt; |\n",
       "|---|---|\n",
       "| 2010 | 44.46181 |\n",
       "| 2011 | 29.59028 |\n",
       "| 2012 | 36.75347 |\n",
       "| 2013 | 33.06597 |\n",
       "| 2014 | 41.01042 |\n",
       "| 2015 | 34.23958 |\n",
       "\n"
      ],
      "text/plain": [
       "  Year mean_year\n",
       "1 2010 44.46181 \n",
       "2 2011 29.59028 \n",
       "3 2012 36.75347 \n",
       "4 2013 33.06597 \n",
       "5 2014 41.01042 \n",
       "6 2015 34.23958 "
      ]
     },
     "metadata": {},
     "output_type": "display_data"
    }
   ],
   "source": [
    "filtered_data <- data |>  \n",
    "filter( Day == \"1\")\n",
    "\n",
    "mean_monthly_data <- filtered_data |> \n",
    "group_by(Year, Month, Day) |>\n",
    "summarize(mean_daily = mean(level))\n",
    "\n",
    "yearly_mean <- mean_monthly_data |>\n",
    "group_by(Year) |>\n",
    "summarize(mean_year = mean(mean_daily)) |>\n",
    "slice(-34)\n",
    "\n",
    "head(yearly_mean)\n",
    "tail(yearly_mean)"
   ]
  },
  {
   "cell_type": "markdown",
   "id": "e160b766-87de-4990-afa7-24016e252386",
   "metadata": {},
   "source": [
    "We then visualized our data with a line plot. We initially tried to use a bar plot; but we noticed an outlier within our data, the year 2016 only had 1 data point in total which meant the average for that year messed up the plot.. Therefore we removed the year 2016 from the yearly averages as it had insufficient data."
   ]
  },
  {
   "cell_type": "code",
   "execution_count": 5,
   "id": "87cf2446-7449-4183-80d5-b6c5cc5a38c9",
   "metadata": {},
   "outputs": [
    {
     "data": {
      "image/png": "[encoded data removed]",
      "text/plain": [
       "plot without title"
      ]
     },
     "metadata": {
      "image/png": {
       "height": 420,
       "width": 420
      }
     },
     "output_type": "display_data"
    }
   ],
   "source": [
    "graph_data <- yearly_mean |>\n",
    "ggplot(aes( x = Year, y = mean_year))+\n",
    "geom_point()+\n",
    "geom_line() +\n",
    "labs( x = \"Year\", y = \"Yearly Average\", title = \"Water levels in Venice (1983-2015)\")\n",
    "\n",
    "graph_data"
   ]
  },
  {
   "cell_type": "markdown",
   "id": "6dd3ffd0-d947-4acd-b10d-f9f31da59e0a",
   "metadata": {},
   "source": [
    "**Methodology:** In order to predict future trends within Venice's Water Levels we believe using a regression model would allow us to optain the most accurate result orientated towards this. Through the following we will implement regression line onto our line plot. This line of regression will be in a distict color in order to not cause confusion among the line of the lineplot. "
   ]
  },
  {
   "cell_type": "markdown",
   "id": "2f88e43b-dcd7-4870-9305-00ec2227d4b3",
   "metadata": {},
   "source": [
    "**EXPECTED OUTCOMES/SIGNIFICANCE:** We expect to find increasing water levels as the years progress, which corresponds to water levels rising all around the world due to global warming. The results we predict will likely reflect the impact global warming has on the environment. This can lead to more exploratory questions asking what factors are causing the water levels to change. "
   ]
  },
  {
   "cell_type": "code",
   "execution_count": null,
   "id": "63e834ea-7088-4c70-b21f-6ada0bc97253",
   "metadata": {},
   "outputs": [],
   "source": []
  }
 ],
 "metadata": {
  "kernelspec": {
   "display_name": "R",
   "language": "R",
   "name": "ir"
  },
  "language_info": {
   "codemirror_mode": "r",
   "file_extension": ".r",
   "mimetype": "text/x-r-source",
   "name": "R",
   "pygments_lexer": "r",
   "version": "4.1.3"
  }
 },
 "nbformat": 4,
 "nbformat_minor": 5
}
