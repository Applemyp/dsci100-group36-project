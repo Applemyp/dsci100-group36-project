{
 "cells": [
  {
   "cell_type": "markdown",
   "id": "4de08662-c345-433b-8482-07a693f61f78",
   "metadata": {},
   "source": [
    "# $GROUP$ $36$ $PROJECT$ $REPORT$\n",
    "### $Predicting$ $Water$ $Levels$ $in$ $Venice$"
   ]
  },
  {
   "cell_type": "markdown",
   "id": "617e5b31-46d0-4c43-8b53-5d00afbb7692",
   "metadata": {},
   "source": [
    "**INTRODUCTION:**\n",
    "For our project, we are going to observe a dataset that describes water levels in Venice, Italy. Venice is known for its yearly flooding and is at risk of completely flooding in the future if water levels continue to rise. This dataset contains data from 1983 to 2015, and includes the water level in centimeters for every hour of every day. Our predictive question is:\n",
    "### “What will the average water level in Venice be ten years from now?” \n",
    "We aim to observe possible trends in the average water level per year starting from 1983 and use regression to predict how much the water level will increase or decrease in the future. Since the dataset ends at the year 2015, we want to predict the average yearly water level ten years from that, in 2025. "
   ]
  },
  {
   "cell_type": "markdown",
   "id": "df8050b8-d4b2-4304-84c2-74b56c764a86",
   "metadata": {},
   "source": [
    "**DATA ANALYSIS**\n"
   ]
  },
  {
   "cell_type": "code",
   "execution_count": 4,
   "id": "c285275c-8a19-4f2f-85b9-675df805a0d7",
   "metadata": {},
   "outputs": [
    {
     "name": "stderr",
     "output_type": "stream",
     "text": [
      "── \u001b[1mAttaching packages\u001b[22m ─────────────────────────────────────── tidyverse 1.3.1 ──\n",
      "\n",
      "\u001b[32m✔\u001b[39m \u001b[34mggplot2\u001b[39m 3.3.6     \u001b[32m✔\u001b[39m \u001b[34mpurrr  \u001b[39m 0.3.4\n",
      "\u001b[32m✔\u001b[39m \u001b[34mtibble \u001b[39m 3.1.7     \u001b[32m✔\u001b[39m \u001b[34mdplyr  \u001b[39m 1.0.9\n",
      "\u001b[32m✔\u001b[39m \u001b[34mtidyr  \u001b[39m 1.2.0     \u001b[32m✔\u001b[39m \u001b[34mstringr\u001b[39m 1.4.0\n",
      "\u001b[32m✔\u001b[39m \u001b[34mreadr  \u001b[39m 2.1.2     \u001b[32m✔\u001b[39m \u001b[34mforcats\u001b[39m 0.5.1\n",
      "\n",
      "── \u001b[1mConflicts\u001b[22m ────────────────────────────────────────── tidyverse_conflicts() ──\n",
      "\u001b[31m✖\u001b[39m \u001b[34mdplyr\u001b[39m::\u001b[32mfilter()\u001b[39m masks \u001b[34mstats\u001b[39m::filter()\n",
      "\u001b[31m✖\u001b[39m \u001b[34mdplyr\u001b[39m::\u001b[32mlag()\u001b[39m    masks \u001b[34mstats\u001b[39m::lag()\n",
      "\n",
      "── \u001b[1mAttaching packages\u001b[22m ────────────────────────────────────── tidymodels 1.0.0 ──\n",
      "\n",
      "\u001b[32m✔\u001b[39m \u001b[34mbroom       \u001b[39m 1.0.0     \u001b[32m✔\u001b[39m \u001b[34mrsample     \u001b[39m 1.0.0\n",
      "\u001b[32m✔\u001b[39m \u001b[34mdials       \u001b[39m 1.0.0     \u001b[32m✔\u001b[39m \u001b[34mtune        \u001b[39m 1.0.0\n",
      "\u001b[32m✔\u001b[39m \u001b[34minfer       \u001b[39m 1.0.2     \u001b[32m✔\u001b[39m \u001b[34mworkflows   \u001b[39m 1.0.0\n",
      "\u001b[32m✔\u001b[39m \u001b[34mmodeldata   \u001b[39m 1.0.0     \u001b[32m✔\u001b[39m \u001b[34mworkflowsets\u001b[39m 1.0.0\n",
      "\u001b[32m✔\u001b[39m \u001b[34mparsnip     \u001b[39m 1.0.0     \u001b[32m✔\u001b[39m \u001b[34myardstick   \u001b[39m 1.0.0\n",
      "\u001b[32m✔\u001b[39m \u001b[34mrecipes     \u001b[39m 1.0.1     \n",
      "\n",
      "── \u001b[1mConflicts\u001b[22m ───────────────────────────────────────── tidymodels_conflicts() ──\n",
      "\u001b[31m✖\u001b[39m \u001b[34mscales\u001b[39m::\u001b[32mdiscard()\u001b[39m masks \u001b[34mpurrr\u001b[39m::discard()\n",
      "\u001b[31m✖\u001b[39m \u001b[34mdplyr\u001b[39m::\u001b[32mfilter()\u001b[39m   masks \u001b[34mstats\u001b[39m::filter()\n",
      "\u001b[31m✖\u001b[39m \u001b[34mrecipes\u001b[39m::\u001b[32mfixed()\u001b[39m  masks \u001b[34mstringr\u001b[39m::fixed()\n",
      "\u001b[31m✖\u001b[39m \u001b[34mdplyr\u001b[39m::\u001b[32mlag()\u001b[39m      masks \u001b[34mstats\u001b[39m::lag()\n",
      "\u001b[31m✖\u001b[39m \u001b[34myardstick\u001b[39m::\u001b[32mspec()\u001b[39m masks \u001b[34mreadr\u001b[39m::spec()\n",
      "\u001b[31m✖\u001b[39m \u001b[34mrecipes\u001b[39m::\u001b[32mstep()\u001b[39m   masks \u001b[34mstats\u001b[39m::step()\n",
      "\u001b[34m•\u001b[39m Learn how to get started at \u001b[32mhttps://www.tidymodels.org/start/\u001b[39m\n",
      "\n"
     ]
    }
   ],
   "source": [
    "library(tidyverse)\n",
    "library(repr)\n",
    "library(tidymodels)\n",
    "library(tidyr)\n",
    "options(repr.matrix.max.rows = 6)"
   ]
  },
  {
   "cell_type": "markdown",
   "id": "b55cb2c4-2eac-44d8-98b7-ef28bc695d9b",
   "metadata": {},
   "source": [
    "We first loaded in our dataset and noticied the original dataset had some untidy data. This data was untidy because the original dataset had year, month, date, and and time all in one column, so we separated these into different columns with one value per cell. \n",
    "We used all the data from the original dataset, and did not need to remove any variables, as the dataset contains all the information we need already; the different water levels and the time at which they were recorded. \n",
    "\n",
    "Next, we wrangled our data so that it contained the values we needed for our prediction. We filtered out the year 2016, as there was only 1 data point for it whereas the other years had thousands of data points. This prevents the data for 2016 from being an outlier. We then grouped our data by year and summarized it to take the mean of the water levels. This gives us an overall average water level for every year from 1983 to 2015. "
   ]
  },
  {
   "cell_type": "code",
   "execution_count": 7,
   "id": "55eeb34f-6bec-4758-9a56-54e316eca98e",
   "metadata": {},
   "outputs": [
    {
     "name": "stderr",
     "output_type": "stream",
     "text": [
      "\u001b[1mRows: \u001b[22m\u001b[34m289272\u001b[39m \u001b[1mColumns: \u001b[22m\u001b[34m2\u001b[39m\n",
      "\u001b[36m──\u001b[39m \u001b[1mColumn specification\u001b[22m \u001b[36m────────────────────────────────────────────────────────\u001b[39m\n",
      "\u001b[1mDelimiter:\u001b[22m \",\"\n",
      "\u001b[32mdbl\u001b[39m  (1): level\n",
      "\u001b[34mdttm\u001b[39m (1): datetime\n",
      "\n",
      "\u001b[36mℹ\u001b[39m Use `spec()` to retrieve the full column specification for this data.\n",
      "\u001b[36mℹ\u001b[39m Specify the column types or set `show_col_types = FALSE` to quiet this message.\n",
      "Warning message:\n",
      "“The number of observations in each quantile is below the recommended threshold of 20.\n",
      "\u001b[36m•\u001b[39m Stratification will use 1 breaks instead.”\n",
      "Warning message:\n",
      "“Too little data to stratify.\n",
      "\u001b[36m•\u001b[39m Resampling will be unstratified.”\n"
     ]
    },
    {
     "data": {
      "text/html": [
       "<table class=\"dataframe\">\n",
       "<caption>A tibble: 33 × 2</caption>\n",
       "<thead>\n",
       "\t<tr><th scope=col>Year</th><th scope=col>mean_yearly</th></tr>\n",
       "\t<tr><th scope=col>&lt;int&gt;</th><th scope=col>&lt;dbl&gt;</th></tr>\n",
       "</thead>\n",
       "<tbody>\n",
       "\t<tr><td>1983</td><td>20.55337</td></tr>\n",
       "\t<tr><td>1984</td><td>24.33094</td></tr>\n",
       "\t<tr><td>1985</td><td>21.50982</td></tr>\n",
       "\t<tr><td>⋮</td><td>⋮</td></tr>\n",
       "\t<tr><td>2013</td><td>36.30993</td></tr>\n",
       "\t<tr><td>2014</td><td>39.43710</td></tr>\n",
       "\t<tr><td>2015</td><td>31.26404</td></tr>\n",
       "</tbody>\n",
       "</table>\n"
      ],
      "text/latex": [
       "A tibble: 33 × 2\n",
       "\\begin{tabular}{ll}\n",
       " Year & mean\\_yearly\\\\\n",
       " <int> & <dbl>\\\\\n",
       "\\hline\n",
       "\t 1983 & 20.55337\\\\\n",
       "\t 1984 & 24.33094\\\\\n",
       "\t 1985 & 21.50982\\\\\n",
       "\t ⋮ & ⋮\\\\\n",
       "\t 2013 & 36.30993\\\\\n",
       "\t 2014 & 39.43710\\\\\n",
       "\t 2015 & 31.26404\\\\\n",
       "\\end{tabular}\n"
      ],
      "text/markdown": [
       "\n",
       "A tibble: 33 × 2\n",
       "\n",
       "| Year &lt;int&gt; | mean_yearly &lt;dbl&gt; |\n",
       "|---|---|\n",
       "| 1983 | 20.55337 |\n",
       "| 1984 | 24.33094 |\n",
       "| 1985 | 21.50982 |\n",
       "| ⋮ | ⋮ |\n",
       "| 2013 | 36.30993 |\n",
       "| 2014 | 39.43710 |\n",
       "| 2015 | 31.26404 |\n",
       "\n"
      ],
      "text/plain": [
       "   Year mean_yearly\n",
       "1  1983 20.55337   \n",
       "2  1984 24.33094   \n",
       "3  1985 21.50982   \n",
       "⋮  ⋮    ⋮          \n",
       "31 2013 36.30993   \n",
       "32 2014 39.43710   \n",
       "33 2015 31.26404   "
      ]
     },
     "metadata": {},
     "output_type": "display_data"
    },
    {
     "data": {
      "text/html": [
       "<table class=\"dataframe\">\n",
       "<caption>A tibble: 26 × 2</caption>\n",
       "<thead>\n",
       "\t<tr><th scope=col>Year</th><th scope=col>mean_yearly</th></tr>\n",
       "\t<tr><th scope=col>&lt;int&gt;</th><th scope=col>&lt;dbl&gt;</th></tr>\n",
       "</thead>\n",
       "<tbody>\n",
       "\t<tr><td>1983</td><td>20.55337</td></tr>\n",
       "\t<tr><td>1985</td><td>21.50982</td></tr>\n",
       "\t<tr><td>1986</td><td>22.79338</td></tr>\n",
       "\t<tr><td>⋮</td><td>⋮</td></tr>\n",
       "\t<tr><td>2012</td><td>29.49693</td></tr>\n",
       "\t<tr><td>2014</td><td>39.43710</td></tr>\n",
       "\t<tr><td>2015</td><td>31.26404</td></tr>\n",
       "</tbody>\n",
       "</table>\n"
      ],
      "text/latex": [
       "A tibble: 26 × 2\n",
       "\\begin{tabular}{ll}\n",
       " Year & mean\\_yearly\\\\\n",
       " <int> & <dbl>\\\\\n",
       "\\hline\n",
       "\t 1983 & 20.55337\\\\\n",
       "\t 1985 & 21.50982\\\\\n",
       "\t 1986 & 22.79338\\\\\n",
       "\t ⋮ & ⋮\\\\\n",
       "\t 2012 & 29.49693\\\\\n",
       "\t 2014 & 39.43710\\\\\n",
       "\t 2015 & 31.26404\\\\\n",
       "\\end{tabular}\n"
      ],
      "text/markdown": [
       "\n",
       "A tibble: 26 × 2\n",
       "\n",
       "| Year &lt;int&gt; | mean_yearly &lt;dbl&gt; |\n",
       "|---|---|\n",
       "| 1983 | 20.55337 |\n",
       "| 1985 | 21.50982 |\n",
       "| 1986 | 22.79338 |\n",
       "| ⋮ | ⋮ |\n",
       "| 2012 | 29.49693 |\n",
       "| 2014 | 39.43710 |\n",
       "| 2015 | 31.26404 |\n",
       "\n"
      ],
      "text/plain": [
       "   Year mean_yearly\n",
       "1  1983 20.55337   \n",
       "2  1985 21.50982   \n",
       "3  1986 22.79338   \n",
       "⋮  ⋮    ⋮          \n",
       "24 2012 29.49693   \n",
       "25 2014 39.43710   \n",
       "26 2015 31.26404   "
      ]
     },
     "metadata": {},
     "output_type": "display_data"
    },
    {
     "data": {
      "text/html": [
       "<table class=\"dataframe\">\n",
       "<caption>A tibble: 7 × 2</caption>\n",
       "<thead>\n",
       "\t<tr><th scope=col>Year</th><th scope=col>mean_yearly</th></tr>\n",
       "\t<tr><th scope=col>&lt;int&gt;</th><th scope=col>&lt;dbl&gt;</th></tr>\n",
       "</thead>\n",
       "<tbody>\n",
       "\t<tr><td>1984</td><td>24.33094</td></tr>\n",
       "\t<tr><td>1994</td><td>21.72032</td></tr>\n",
       "\t<tr><td>1995</td><td>22.20947</td></tr>\n",
       "\t<tr><td>⋮</td><td>⋮</td></tr>\n",
       "\t<tr><td>2004</td><td>27.61305</td></tr>\n",
       "\t<tr><td>2005</td><td>25.83836</td></tr>\n",
       "\t<tr><td>2013</td><td>36.30993</td></tr>\n",
       "</tbody>\n",
       "</table>\n"
      ],
      "text/latex": [
       "A tibble: 7 × 2\n",
       "\\begin{tabular}{ll}\n",
       " Year & mean\\_yearly\\\\\n",
       " <int> & <dbl>\\\\\n",
       "\\hline\n",
       "\t 1984 & 24.33094\\\\\n",
       "\t 1994 & 21.72032\\\\\n",
       "\t 1995 & 22.20947\\\\\n",
       "\t ⋮ & ⋮\\\\\n",
       "\t 2004 & 27.61305\\\\\n",
       "\t 2005 & 25.83836\\\\\n",
       "\t 2013 & 36.30993\\\\\n",
       "\\end{tabular}\n"
      ],
      "text/markdown": [
       "\n",
       "A tibble: 7 × 2\n",
       "\n",
       "| Year &lt;int&gt; | mean_yearly &lt;dbl&gt; |\n",
       "|---|---|\n",
       "| 1984 | 24.33094 |\n",
       "| 1994 | 21.72032 |\n",
       "| 1995 | 22.20947 |\n",
       "| ⋮ | ⋮ |\n",
       "| 2004 | 27.61305 |\n",
       "| 2005 | 25.83836 |\n",
       "| 2013 | 36.30993 |\n",
       "\n"
      ],
      "text/plain": [
       "  Year mean_yearly\n",
       "1 1984 24.33094   \n",
       "2 1994 21.72032   \n",
       "3 1995 22.20947   \n",
       "⋮ ⋮    ⋮          \n",
       "5 2004 27.61305   \n",
       "6 2005 25.83836   \n",
       "7 2013 36.30993   "
      ]
     },
     "metadata": {},
     "output_type": "display_data"
    }
   ],
   "source": [
    "set.seed(2000) \n",
    "\n",
    "#\n",
    "data<-read_csv('https://github.com/lbcommer/venezia-high-waters/raw/master/output/venezia.csv') |>\n",
    "                                separate(col=datetime, into=c('Year', 'Month', 'Date'), sep='-', convert=TRUE) |>\n",
    "                                separate(col=Date, into=c('Day', 'Time'), sep=\" \", convert=TRUE)\n",
    "filtered_data <- data |>  \n",
    "filter( Year != \"2016\")\n",
    "\n",
    "mean_yearly_data <- filtered_data |>\n",
    "group_by(Year) |>\n",
    "summarize(mean_yearly = mean(level))\n",
    "\n",
    "data_split <- initial_split(mean_yearly_data, prop = 0.8, strata = mean_yearly)\n",
    "training_data <- training(data_split)\n",
    "testing_data <- testing(data_split)\n",
    "\n",
    "mean_yearly_data\n",
    "training_data\n",
    "testing_data"
   ]
  },
  {
   "cell_type": "code",
   "execution_count": null,
   "id": "a8dc9f14-b874-4dc2-8eb6-62d4d520e9cc",
   "metadata": {},
   "outputs": [],
   "source": []
  }
 ],
 "metadata": {
  "kernelspec": {
   "display_name": "R",
   "language": "R",
   "name": "ir"
  },
  "language_info": {
   "codemirror_mode": "r",
   "file_extension": ".r",
   "mimetype": "text/x-r-source",
   "name": "R",
   "pygments_lexer": "r",
   "version": "4.1.3"
  }
 },
 "nbformat": 4,
 "nbformat_minor": 5
}
